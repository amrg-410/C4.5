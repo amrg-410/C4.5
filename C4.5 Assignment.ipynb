{
 "cells": [
  {
   "cell_type": "code",
   "execution_count": 1,
   "id": "a7380782",
   "metadata": {},
   "outputs": [
    {
     "name": "stdout",
     "output_type": "stream",
     "text": [
      "Requirement already satisfied: chefboost in c:\\users\\anni sharleena\\anaconda3\\lib\\site-packages (0.0.17)Note: you may need to restart the kernel to use updated packages.\n",
      "Requirement already satisfied: pandas>=0.22.0 in c:\\users\\anni sharleena\\anaconda3\\lib\\site-packages (from chefboost) (1.3.4)\n",
      "Requirement already satisfied: tqdm>=4.30.0 in c:\\users\\anni sharleena\\anaconda3\\lib\\site-packages (from chefboost) (4.62.3)\n",
      "Requirement already satisfied: psutil>=5.4.3 in c:\\users\\anni sharleena\\anaconda3\\lib\\site-packages (from chefboost) (5.8.0)\n",
      "Requirement already satisfied: numpy>=1.14.0 in c:\\users\\anni sharleena\\anaconda3\\lib\\site-packages (from chefboost) (1.20.3)\n",
      "Requirement already satisfied: python-dateutil>=2.7.3 in c:\\users\\anni sharleena\\anaconda3\\lib\\site-packages (from pandas>=0.22.0->chefboost) (2.8.2)\n",
      "Requirement already satisfied: pytz>=2017.3 in c:\\users\\anni sharleena\\anaconda3\\lib\\site-packages (from pandas>=0.22.0->chefboost) (2021.3)\n",
      "Requirement already satisfied: six>=1.5 in c:\\users\\anni sharleena\\anaconda3\\lib\\site-packages (from python-dateutil>=2.7.3->pandas>=0.22.0->chefboost) (1.16.0)\n",
      "Requirement already satisfied: colorama in c:\\users\\anni sharleena\\anaconda3\\lib\\site-packages (from tqdm>=4.30.0->chefboost) (0.4.4)\n",
      "\n"
     ]
    }
   ],
   "source": [
    "pip install chefboost"
   ]
  },
  {
   "cell_type": "code",
   "execution_count": 2,
   "id": "29870387",
   "metadata": {},
   "outputs": [],
   "source": [
    "from chefboost import Chefboost as chef"
   ]
  },
  {
   "cell_type": "code",
   "execution_count": 3,
   "id": "c345392b",
   "metadata": {},
   "outputs": [],
   "source": [
    "import pandas as pd\n",
    "\n",
    "df = pd.read_csv(\"buy_mobile.txt\")"
   ]
  },
  {
   "cell_type": "code",
   "execution_count": 4,
   "id": "b9a3f53e",
   "metadata": {},
   "outputs": [
    {
     "data": {
      "text/html": [
       "<div>\n",
       "<style scoped>\n",
       "    .dataframe tbody tr th:only-of-type {\n",
       "        vertical-align: middle;\n",
       "    }\n",
       "\n",
       "    .dataframe tbody tr th {\n",
       "        vertical-align: top;\n",
       "    }\n",
       "\n",
       "    .dataframe thead th {\n",
       "        text-align: right;\n",
       "    }\n",
       "</style>\n",
       "<table border=\"1\" class=\"dataframe\">\n",
       "  <thead>\n",
       "    <tr style=\"text-align: right;\">\n",
       "      <th></th>\n",
       "      <th>Age</th>\n",
       "      <th>Income</th>\n",
       "      <th>Region</th>\n",
       "      <th>Credit_rating</th>\n",
       "      <th>Buy_Mobile</th>\n",
       "    </tr>\n",
       "  </thead>\n",
       "  <tbody>\n",
       "    <tr>\n",
       "      <th>0</th>\n",
       "      <td>18</td>\n",
       "      <td>high</td>\n",
       "      <td>USA</td>\n",
       "      <td>Low</td>\n",
       "      <td>no</td>\n",
       "    </tr>\n",
       "    <tr>\n",
       "      <th>1</th>\n",
       "      <td>15</td>\n",
       "      <td>high</td>\n",
       "      <td>USA</td>\n",
       "      <td>High</td>\n",
       "      <td>no</td>\n",
       "    </tr>\n",
       "    <tr>\n",
       "      <th>2</th>\n",
       "      <td>24</td>\n",
       "      <td>high</td>\n",
       "      <td>USA</td>\n",
       "      <td>Low</td>\n",
       "      <td>yes</td>\n",
       "    </tr>\n",
       "    <tr>\n",
       "      <th>3</th>\n",
       "      <td>56</td>\n",
       "      <td>medium</td>\n",
       "      <td>USA</td>\n",
       "      <td>Low</td>\n",
       "      <td>yes</td>\n",
       "    </tr>\n",
       "    <tr>\n",
       "      <th>4</th>\n",
       "      <td>60</td>\n",
       "      <td>low</td>\n",
       "      <td>UK</td>\n",
       "      <td>Low</td>\n",
       "      <td>yes</td>\n",
       "    </tr>\n",
       "    <tr>\n",
       "      <th>5</th>\n",
       "      <td>72</td>\n",
       "      <td>low</td>\n",
       "      <td>UK</td>\n",
       "      <td>High</td>\n",
       "      <td>no</td>\n",
       "    </tr>\n",
       "    <tr>\n",
       "      <th>6</th>\n",
       "      <td>35</td>\n",
       "      <td>low</td>\n",
       "      <td>UK</td>\n",
       "      <td>High</td>\n",
       "      <td>yes</td>\n",
       "    </tr>\n",
       "    <tr>\n",
       "      <th>7</th>\n",
       "      <td>19</td>\n",
       "      <td>medium</td>\n",
       "      <td>USA</td>\n",
       "      <td>Low</td>\n",
       "      <td>no</td>\n",
       "    </tr>\n",
       "    <tr>\n",
       "      <th>8</th>\n",
       "      <td>10</td>\n",
       "      <td>low</td>\n",
       "      <td>UK</td>\n",
       "      <td>Low</td>\n",
       "      <td>yes</td>\n",
       "    </tr>\n",
       "    <tr>\n",
       "      <th>9</th>\n",
       "      <td>50</td>\n",
       "      <td>medium</td>\n",
       "      <td>UK</td>\n",
       "      <td>Low</td>\n",
       "      <td>yes</td>\n",
       "    </tr>\n",
       "  </tbody>\n",
       "</table>\n",
       "</div>"
      ],
      "text/plain": [
       "   Age  Income Region Credit_rating Buy_Mobile\n",
       "0   18    high    USA           Low         no\n",
       "1   15    high    USA          High         no\n",
       "2   24    high    USA           Low        yes\n",
       "3   56  medium    USA           Low        yes\n",
       "4   60     low     UK           Low        yes\n",
       "5   72     low     UK          High         no\n",
       "6   35     low     UK          High        yes\n",
       "7   19  medium    USA           Low         no\n",
       "8   10     low     UK           Low        yes\n",
       "9   50  medium     UK           Low        yes"
      ]
     },
     "execution_count": 4,
     "metadata": {},
     "output_type": "execute_result"
    }
   ],
   "source": [
    "df"
   ]
  },
  {
   "cell_type": "code",
   "execution_count": 5,
   "id": "12506c18",
   "metadata": {},
   "outputs": [
    {
     "name": "stdout",
     "output_type": "stream",
     "text": [
      "[INFO]:  4 CPU cores will be allocated in parallel running\n",
      "C4.5  tree is going to be built...\n",
      "-------------------------\n",
      "finished in  3.1308398246765137  seconds\n",
      "-------------------------\n",
      "Evaluate  train set\n",
      "-------------------------\n",
      "Accuracy:  80.0 % on  10  instances\n",
      "Labels:  ['no' 'yes']\n",
      "Confusion matrix:  [[3, 1], [1, 5]]\n",
      "Precision:  75.0 %, Recall:  75.0 %, F1:  75.0 %\n"
     ]
    }
   ],
   "source": [
    "config = {'algorithm': 'C4.5'}\n",
    "model = chef.fit(df, config = config, target_label = 'Buy_Mobile')"
   ]
  },
  {
   "cell_type": "code",
   "execution_count": 6,
   "id": "c4dcfe70",
   "metadata": {},
   "outputs": [
    {
     "data": {
      "text/html": [
       "<div>\n",
       "<style scoped>\n",
       "    .dataframe tbody tr th:only-of-type {\n",
       "        vertical-align: middle;\n",
       "    }\n",
       "\n",
       "    .dataframe tbody tr th {\n",
       "        vertical-align: top;\n",
       "    }\n",
       "\n",
       "    .dataframe thead th {\n",
       "        text-align: right;\n",
       "    }\n",
       "</style>\n",
       "<table border=\"1\" class=\"dataframe\">\n",
       "  <thead>\n",
       "    <tr style=\"text-align: right;\">\n",
       "      <th></th>\n",
       "      <th>Age</th>\n",
       "      <th>Income</th>\n",
       "      <th>Region</th>\n",
       "      <th>Credit_rating</th>\n",
       "      <th>Buy_Mobile</th>\n",
       "    </tr>\n",
       "  </thead>\n",
       "  <tbody>\n",
       "    <tr>\n",
       "      <th>0</th>\n",
       "      <td>18</td>\n",
       "      <td>high</td>\n",
       "      <td>USA</td>\n",
       "      <td>Low</td>\n",
       "      <td>no</td>\n",
       "    </tr>\n",
       "    <tr>\n",
       "      <th>1</th>\n",
       "      <td>15</td>\n",
       "      <td>high</td>\n",
       "      <td>USA</td>\n",
       "      <td>High</td>\n",
       "      <td>no</td>\n",
       "    </tr>\n",
       "    <tr>\n",
       "      <th>2</th>\n",
       "      <td>24</td>\n",
       "      <td>high</td>\n",
       "      <td>USA</td>\n",
       "      <td>Low</td>\n",
       "      <td>yes</td>\n",
       "    </tr>\n",
       "    <tr>\n",
       "      <th>3</th>\n",
       "      <td>56</td>\n",
       "      <td>medium</td>\n",
       "      <td>USA</td>\n",
       "      <td>Low</td>\n",
       "      <td>yes</td>\n",
       "    </tr>\n",
       "    <tr>\n",
       "      <th>4</th>\n",
       "      <td>60</td>\n",
       "      <td>low</td>\n",
       "      <td>UK</td>\n",
       "      <td>Low</td>\n",
       "      <td>yes</td>\n",
       "    </tr>\n",
       "    <tr>\n",
       "      <th>5</th>\n",
       "      <td>72</td>\n",
       "      <td>low</td>\n",
       "      <td>UK</td>\n",
       "      <td>High</td>\n",
       "      <td>no</td>\n",
       "    </tr>\n",
       "    <tr>\n",
       "      <th>6</th>\n",
       "      <td>35</td>\n",
       "      <td>low</td>\n",
       "      <td>UK</td>\n",
       "      <td>High</td>\n",
       "      <td>yes</td>\n",
       "    </tr>\n",
       "    <tr>\n",
       "      <th>7</th>\n",
       "      <td>19</td>\n",
       "      <td>medium</td>\n",
       "      <td>USA</td>\n",
       "      <td>Low</td>\n",
       "      <td>no</td>\n",
       "    </tr>\n",
       "    <tr>\n",
       "      <th>8</th>\n",
       "      <td>10</td>\n",
       "      <td>low</td>\n",
       "      <td>UK</td>\n",
       "      <td>Low</td>\n",
       "      <td>yes</td>\n",
       "    </tr>\n",
       "    <tr>\n",
       "      <th>9</th>\n",
       "      <td>50</td>\n",
       "      <td>medium</td>\n",
       "      <td>UK</td>\n",
       "      <td>Low</td>\n",
       "      <td>yes</td>\n",
       "    </tr>\n",
       "  </tbody>\n",
       "</table>\n",
       "</div>"
      ],
      "text/plain": [
       "   Age  Income Region Credit_rating Buy_Mobile\n",
       "0   18    high    USA           Low         no\n",
       "1   15    high    USA          High         no\n",
       "2   24    high    USA           Low        yes\n",
       "3   56  medium    USA           Low        yes\n",
       "4   60     low     UK           Low        yes\n",
       "5   72     low     UK          High         no\n",
       "6   35     low     UK          High        yes\n",
       "7   19  medium    USA           Low         no\n",
       "8   10     low     UK           Low        yes\n",
       "9   50  medium     UK           Low        yes"
      ]
     },
     "execution_count": 6,
     "metadata": {},
     "output_type": "execute_result"
    }
   ],
   "source": [
    "df"
   ]
  },
  {
   "cell_type": "code",
   "execution_count": 7,
   "id": "0d46739f",
   "metadata": {},
   "outputs": [],
   "source": [
    "prediction = chef.predict(model, [72,'low','UK','High','No'])"
   ]
  },
  {
   "cell_type": "code",
   "execution_count": 8,
   "id": "a5733acd",
   "metadata": {},
   "outputs": [
    {
     "data": {
      "text/plain": [
       "'no'"
      ]
     },
     "execution_count": 8,
     "metadata": {},
     "output_type": "execute_result"
    }
   ],
   "source": [
    "prediction"
   ]
  },
  {
   "cell_type": "code",
   "execution_count": 9,
   "id": "8dd764cb",
   "metadata": {},
   "outputs": [],
   "source": [
    "prediction = chef.predict(model, [10,'low','UK','Low','yes'])"
   ]
  },
  {
   "cell_type": "code",
   "execution_count": 10,
   "id": "59ea60a3",
   "metadata": {},
   "outputs": [
    {
     "data": {
      "text/plain": [
       "'yes'"
      ]
     },
     "execution_count": 10,
     "metadata": {},
     "output_type": "execute_result"
    }
   ],
   "source": [
    "prediction"
   ]
  }
 ],
 "metadata": {
  "kernelspec": {
   "display_name": "Python 3.10.5 64-bit",
   "language": "python",
   "name": "python3"
  },
  "language_info": {
   "codemirror_mode": {
    "name": "ipython",
    "version": 3
   },
   "file_extension": ".py",
   "mimetype": "text/x-python",
   "name": "python",
   "nbconvert_exporter": "python",
   "pygments_lexer": "ipython3",
   "version": "3.10.5"
  },
  "vscode": {
   "interpreter": {
    "hash": "836aebde3fed1ca31ad160f99b3676f3b86510582d04103a85c6babfddcfc4d6"
   }
  }
 },
 "nbformat": 4,
 "nbformat_minor": 5
}
