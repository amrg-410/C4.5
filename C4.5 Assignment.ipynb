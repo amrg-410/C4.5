{
 "cells": [
  {
   "cell_type": "code",
   "execution_count": null,
   "id": "a7380782",
   "metadata": {},
   "outputs": [],
   "source": [
    "pip install chefboost"
   ]
  },
  {
   "cell_type": "code",
   "execution_count": null,
   "id": "29870387",
   "metadata": {},
   "outputs": [],
   "source": [
    "from chefboost import Chefboost as chef"
   ]
  },
  {
   "cell_type": "code",
   "execution_count": null,
   "id": "c345392b",
   "metadata": {},
   "outputs": [],
   "source": [
    "import pandas as pd\n",
    "\n",
    "df = pd.read_csv(\"buy_mobile.txt\")"
   ]
  },
  {
   "cell_type": "code",
   "execution_count": null,
   "id": "b9a3f53e",
   "metadata": {},
   "outputs": [],
   "source": [
    "df"
   ]
  },
  {
   "cell_type": "code",
   "execution_count": null,
   "id": "12506c18",
   "metadata": {},
   "outputs": [],
   "source": [
    "config = {'algorithm': 'C4.5'}\n",
    "model = chef.fit(df, config = config, target_label = 'Buy_Mobile')"
   ]
  },
  {
   "cell_type": "code",
   "execution_count": null,
   "id": "c4dcfe70",
   "metadata": {},
   "outputs": [],
   "source": [
    "df"
   ]
  },
  {
   "cell_type": "code",
   "execution_count": null,
   "id": "0d46739f",
   "metadata": {},
   "outputs": [],
   "source": [
    "prediction = chef.predict(model, [72,'low','UK','High','No'])"
   ]
  },
  {
   "cell_type": "code",
   "execution_count": null,
   "id": "a5733acd",
   "metadata": {},
   "outputs": [],
   "source": [
    "prediction"
   ]
  },
  {
   "cell_type": "code",
   "execution_count": null,
   "id": "8dd764cb",
   "metadata": {},
   "outputs": [],
   "source": [
    "prediction = chef.predict(model, [10,'low','UK','Low','yes'])"
   ]
  },
  {
   "cell_type": "code",
   "execution_count": null,
   "id": "59ea60a3",
   "metadata": {},
   "outputs": [],
   "source": [
    "prediction"
   ]
  }
 ],
 "metadata": {
  "kernelspec": {
   "display_name": "Python 3.10.5 64-bit",
   "language": "python",
   "name": "python3"
  },
  "language_info": {
   "codemirror_mode": {
    "name": "ipython",
    "version": 3
   },
   "file_extension": ".py",
   "mimetype": "text/x-python",
   "name": "python",
   "nbconvert_exporter": "python",
   "pygments_lexer": "ipython3",
   "version": "3.10.5"
  },
  "vscode": {
   "interpreter": {
    "hash": "836aebde3fed1ca31ad160f99b3676f3b86510582d04103a85c6babfddcfc4d6"
   }
  }
 },
 "nbformat": 4,
 "nbformat_minor": 5
}
